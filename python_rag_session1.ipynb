{
 "cells": [
  {
   "cell_type": "markdown",
   "metadata": {},
   "source": [
    "# Lets build an AI app!\n",
    "\n",
    "The following steps will cover:\n",
    "1. How to use GPT to create a chatbot in Python.\n",
    "2. How to add data to your own chatbot. \n",
    "3. Create a basic web app using GPT with your own data\n",
    "4. Create an improved web app that keeps track of the message history for improved context"
   ]
  },
  {
   "cell_type": "markdown",
   "metadata": {},
   "source": [
    "## Get set up!\n",
    "\n",
    "To use GPT in this workshop we've set up a proxy that means you get easy access to Azure OpenAI services.\n",
    "\n",
    "To get access to the proxy service go to [this link](https://aka.ms/ai-proxy-she-sharp-fp) and sign in with your GitHub account.\n",
    "\n",
    "You will need the **key** and **endpoint** that you get from the proxy site."
   ]
  },
  {
   "cell_type": "markdown",
   "metadata": {},
   "source": [
    "## Part 1 - Make an AI chatbot in Python\n",
    "\n",
    "In this part you will get the key and end point and create the code to ask a question to Azure OpenAI service. \n",
    "\n",
    "### 🌏 Set up your environment\n",
    "1. Open the terminal using the top menu\n",
    "\n",
    "2. Set up a python virtual environment in the terminal with this command `python3 -m venv ai-app-env`\n",
    "\n",
    "3. Activate the virtual environment with this command `source ai-app-env/bin/activate`\n",
    "\n",
    "4. Run the `Hello World` code in the next cell and set your kernal for Jupyter notebooks, selected *\"Select Another Kernal\"* at the top to **ai-app-env** and click \"Install\" on the pop up.\n"
   ]
  },
  {
   "cell_type": "code",
   "execution_count": null,
   "metadata": {},
   "outputs": [],
   "source": [
    "print(\"Hello, World!\")"
   ]
  },
  {
   "cell_type": "markdown",
   "metadata": {},
   "source": [
    "### 🧠 Add AI\n",
    "1. Go the the requirements.txt file and add `openai`\n",
    "\n",
    "2. In the terminal run the command `pip install -r requirements.txt`\n",
    "\n",
    "3. In the code snippet **below** import the OpenAIClient library at the top of the next code snippet like this: `from openai import AzureOpenAI`. \n",
    "\n",
    "4. In the code cell below fill in the key and endpoint in the variables `AOAI_ENDPOINT` and `AOAI_KEY` *(AOAI is short for Azure OpenAI)*\n",
    "\n",
    "5. In the section where the client is set up, set the following parameters:\n",
    "    - Set api_key to the AOAI_KEY constant you created\n",
    "    - Set azure_endpoint to the AOAI_ENDPOINT constant you created\n",
    "\n",
    "5. Run you code and see the output below the code cell. \n",
    "\n",
    "### 🗣️ Change the tone of the AI and the question\n",
    "6. You can make the tone of the chat different but setting the SYSTEM_MESSAGE. Try make it talk like Elmo, a surf bro, or anything you like.\n",
    "\n",
    "7. Update the question variable to ask a different question.\n",
    "\n",
    "### 🔄 *Bonus: Ask more questions!* \n",
    "8. Create a `while True:` loop after the SYSTEM_MESSAGE variable is set. \n",
    "\n",
    "9. Use the `input` function to ask the user to input a question. Assign it to the question variable (instead of hard coding the question like it currently is).\n",
    "\n",
    "10. Make sure all the question and AI related content is *inside* the loop."
   ]
  },
  {
   "cell_type": "code",
   "execution_count": null,
   "metadata": {},
   "outputs": [],
   "source": [
    "# Imports go here\n",
    "\n",
    "\n",
    "\n",
    "# Put the keys and endpoints here (never put your real keys in the code)\n",
    "AOAI_ENDPOINT = \n",
    "AOAI_KEY = \n",
    "MODEL_NAME = \"gpt-35-turbo-16k\"\n",
    "\n",
    "# Set up the client for AI Chat using the contstants and API Version\n",
    "client = AzureOpenAI(\n",
    "    api_key=,\n",
    "    azure_endpoint=,\n",
    "    api_version=\"2024-05-01-preview\",\n",
    ")\n",
    "\n",
    "# Set the tone of the conversation\n",
    "# SYSTEM_MESSAGE = \"You are a helpful AI assistant that can answer questions and provide information. You can also provide sources for your information.\"\n",
    "SYSTEM_MESSAGE = \"You are an are a helpful assistant who answers questions. You can also provide sources for your information.\"\n",
    "\n",
    "# What question do you want to ask?\n",
    "question = \"What is the capital of France?\"\n",
    "\n",
    "# Create the message history\n",
    "messages=[\n",
    "    {\"role\": \"system\", \"content\": SYSTEM_MESSAGE},\n",
    "    {\"role\": \"user\", \"content\": question},\n",
    "]\n",
    "\n",
    "# Get the answer using the GPT model (create 1 answer (n) and use a temperature of 0.7 to set it to be pretty creative/random)\n",
    "response = client.chat.completions.create(model=MODEL_NAME,temperature=0.7,n=1,messages=messages)\n",
    "answer = response.choices[0].message.content\n",
    "print(answer)"
   ]
  },
  {
   "cell_type": "markdown",
   "metadata": {},
   "source": [
    "## Part 2: Turn your Python script into a basic web app!\n",
    "\n",
    "## 🕸️ Create your web app\n",
    "3. Go to the app.py file\n",
    "\n",
    "4. Copy in the the code from the above cell into the parts marked for imports, constants, and inside of the get_response function. \n",
    "\n",
    "5. Copy the following 2 routes in under the index route. \n",
    "\n",
    "    ```\n",
    "    # This is the route that shows the form the user asks a question on\n",
    "    @app.get('/test-ai')\n",
    "    def test_ai():\n",
    "        # Very basic form that sends a question to the /contextless-message endpoint\n",
    "        return \"\"\"\n",
    "        <h1>Ask a question!</h1>\n",
    "        <form method=\"post\" action=\"/test-ai\">\n",
    "            <textarea name=\"question\" placeholder=\"Ask a question\"></textarea>\n",
    "            <button type=\"submit\">Ask</button>\n",
    "        </form>\n",
    "        \"\"\"\n",
    "\n",
    "    # This is the route that the form sends the question to and sends back the response\n",
    "    @app.route(\"/test-ai\", methods=[\"POST\"])\n",
    "    def ask_response():\n",
    "        # Get the question from the form\n",
    "        question = request.form.get(\"question\")\n",
    "\n",
    "        # Return the response from the AI\n",
    "        return get_response(question)\n",
    "    ```\n",
    "\n",
    "## 👀 Checkout your web app\n",
    "6. Run your code, this will start the web server.\n",
    "\n",
    "7. Click on the link/button to view the web page and navigate to the test-ai page from the hoem page. \n",
    "\n",
    "8. See if your AI is working!"
   ]
  }
 ],
 "metadata": {
  "kernelspec": {
   "display_name": "Python 3",
   "language": "python",
   "name": "python3"
  },
  "language_info": {
   "codemirror_mode": {
    "name": "ipython",
    "version": 3
   },
   "file_extension": ".py",
   "mimetype": "text/x-python",
   "name": "python",
   "nbconvert_exporter": "python",
   "pygments_lexer": "ipython3",
   "version": "3.9.6"
  }
 },
 "nbformat": 4,
 "nbformat_minor": 2
}
